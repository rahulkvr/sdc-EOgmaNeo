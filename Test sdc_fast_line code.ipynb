{
 "cells": [
  {
   "cell_type": "code",
   "execution_count": null,
   "metadata": {},
   "outputs": [],
   "source": [
    "# ----------------------------------------------------------------------------\n",
    "#  EOgmaDrive\n",
    "#  Copyright(c) 2017 Ogma Intelligent Systems Corp. All rights reserved.\n",
    "#\n",
    "#  This copy of EOgmaDrive is licensed to you under the terms described\n",
    "#  in the EOGMADRIVE_LICENSE.md file included in this distribution.\n",
    "# ----------------------------------------------------------------------------\n",
    "\n",
    "# -*- coding: utf-8 -*-"
   ]
  },
  {
   "cell_type": "code",
   "execution_count": 1,
   "metadata": {},
   "outputs": [],
   "source": [
    "import sys\n",
    "import os\n",
    "import signal\n",
    "import pygame\n",
    "import picamera\n",
    "import pygame.surface\n",
    "import pygame.joystick\n",
    "import numpy as np\n",
    "import struct\n",
    "import re\n",
    "from threading import Thread\n",
    "from threading import Lock\n",
    "from threading import Condition\n",
    "from threading import Barrier\n",
    "import os.path\n",
    "from PIL import Image\n",
    "import serial\n",
    "import eogmaneo\n",
    "import time\n",
    "import cv2"
   ]
  },
  {
   "cell_type": "code",
   "execution_count": 2,
   "metadata": {},
   "outputs": [],
   "source": [
    "trimming = 0.1\n",
    "\n",
    "os.environ[\"SDL_VIDEODRIVER\"] = \"dummy\""
   ]
  },
  {
   "cell_type": "code",
   "execution_count": 3,
   "metadata": {},
   "outputs": [],
   "source": [
    "def pygame_to_pil_img(pg_surface):\n",
    "    imgstr = pygame.image.tostring(pg_surface, 'RGB')\n",
    "    return Image.fromstring('RGB', pg_surface.get_size(), imgstr)\n",
    "\n",
    "def pil_to_pygame_img(pil_img):\n",
    "    imgstr = pil_img.tostring()\n",
    "    return pygame.image.fromstring(imgstr, pil_img.size, 'RGB')\n",
    "\n",
    "def matToVec(mat):\n",
    "    return mat.flatten().astype(np.float32).tolist()\n",
    "\n",
    "def sigmoid(x):\n",
    "    return 1.0 / (1.0 + np.exp(-x))"
   ]
  },
  {
   "cell_type": "code",
   "execution_count": 4,
   "metadata": {},
   "outputs": [],
   "source": [
    "endProg = False\n",
    "\n",
    "signal.signal(signal.SIGINT, signal.default_int_handler)\n",
    "\n",
    "camWidth = 64\n",
    "camHeight = 64"
   ]
  },
  {
   "cell_type": "code",
   "execution_count": 5,
   "metadata": {},
   "outputs": [],
   "source": [
    "steerChunkSize = int(6)\n",
    "lineChunkSize = int(6)\n",
    "lineSDRSizeDiv = int(1)\n",
    "\n",
    "lineStepSize = lineChunkSize * 0.666\n",
    "minLineLength = 6"
   ]
  },
  {
   "cell_type": "markdown",
   "metadata": {},
   "source": [
    "Commented out sys.exit()"
   ]
  },
  {
   "cell_type": "code",
   "execution_count": 6,
   "metadata": {},
   "outputs": [
    {
     "name": "stdout",
     "output_type": "stream",
     "text": [
      "No joysticks found.\n",
      "Found 0 joysticks.\n"
     ]
    },
    {
     "ename": "error",
     "evalue": "Invalid joystick device number",
     "output_type": "error",
     "traceback": [
      "\u001b[0;31m---------------------------------------------------------------------------\u001b[0m",
      "\u001b[0;31merror\u001b[0m                                     Traceback (most recent call last)",
      "\u001b[0;32m<ipython-input-6-563f7c7564eb>\u001b[0m in \u001b[0;36m<module>\u001b[0;34m()\u001b[0m\n\u001b[1;32m     11\u001b[0m \u001b[0mprint\u001b[0m\u001b[0;34m(\u001b[0m\u001b[0;34m\"Found \"\u001b[0m \u001b[0;34m+\u001b[0m \u001b[0mstr\u001b[0m\u001b[0;34m(\u001b[0m\u001b[0mjoystick_count\u001b[0m\u001b[0;34m)\u001b[0m \u001b[0;34m+\u001b[0m \u001b[0;34m\" joysticks.\"\u001b[0m\u001b[0;34m)\u001b[0m\u001b[0;34m\u001b[0m\u001b[0m\n\u001b[1;32m     12\u001b[0m \u001b[0;34m\u001b[0m\u001b[0m\n\u001b[0;32m---> 13\u001b[0;31m \u001b[0mjoy\u001b[0m \u001b[0;34m=\u001b[0m \u001b[0mpygame\u001b[0m\u001b[0;34m.\u001b[0m\u001b[0mjoystick\u001b[0m\u001b[0;34m.\u001b[0m\u001b[0mJoystick\u001b[0m\u001b[0;34m(\u001b[0m\u001b[0;36m0\u001b[0m\u001b[0;34m)\u001b[0m\u001b[0;34m\u001b[0m\u001b[0m\n\u001b[0m\u001b[1;32m     14\u001b[0m \u001b[0mjoy\u001b[0m\u001b[0;34m.\u001b[0m\u001b[0minit\u001b[0m\u001b[0;34m(\u001b[0m\u001b[0;34m)\u001b[0m\u001b[0;34m\u001b[0m\u001b[0m\n",
      "\u001b[0;31merror\u001b[0m: Invalid joystick device number"
     ]
    }
   ],
   "source": [
    "pygame.init()\n",
    "pygame.joystick.init()\n",
    "\n",
    "joystick_count = pygame.joystick.get_count()\n",
    "\n",
    "if joystick_count < 1:\n",
    "    print(\"No joysticks found.\")\n",
    "\n",
    "    #sys.exit()\n",
    "\n",
    "print(\"Found \" + str(joystick_count) + \" joysticks.\")\n",
    "\n",
    "joy = pygame.joystick.Joystick(0)\n",
    "joy.init()"
   ]
  },
  {
   "cell_type": "code",
   "execution_count": 7,
   "metadata": {},
   "outputs": [],
   "source": [
    "camera = picamera.PiCamera()\n",
    "\n",
    "camera.resolution = (camWidth, camHeight)\n",
    "camera.framerate = 24\n",
    "\n",
    "#camera.start_preview()\n",
    "\n",
    "time.sleep(2)"
   ]
  },
  {
   "cell_type": "markdown",
   "metadata": {},
   "source": [
    "Uninstalled serial, installed pyserial"
   ]
  },
  {
   "cell_type": "code",
   "execution_count": 8,
   "metadata": {},
   "outputs": [
    {
     "ename": "SerialException",
     "evalue": "[Errno 2] could not open port /dev/serial/by-id/usb-Arduino_Srl_Arduino_Uno_556393038343514082D0-if00: [Errno 2] No such file or directory: '/dev/serial/by-id/usb-Arduino_Srl_Arduino_Uno_556393038343514082D0-if00'",
     "output_type": "error",
     "traceback": [
      "\u001b[0;31m---------------------------------------------------------------------------\u001b[0m",
      "\u001b[0;31mFileNotFoundError\u001b[0m                         Traceback (most recent call last)",
      "\u001b[0;32m/usr/local/lib/python3.5/dist-packages/serial/serialposix.py\u001b[0m in \u001b[0;36mopen\u001b[0;34m(self)\u001b[0m\n\u001b[1;32m    264\u001b[0m         \u001b[0;32mtry\u001b[0m\u001b[0;34m:\u001b[0m\u001b[0;34m\u001b[0m\u001b[0m\n\u001b[0;32m--> 265\u001b[0;31m             \u001b[0mself\u001b[0m\u001b[0;34m.\u001b[0m\u001b[0mfd\u001b[0m \u001b[0;34m=\u001b[0m \u001b[0mos\u001b[0m\u001b[0;34m.\u001b[0m\u001b[0mopen\u001b[0m\u001b[0;34m(\u001b[0m\u001b[0mself\u001b[0m\u001b[0;34m.\u001b[0m\u001b[0mportstr\u001b[0m\u001b[0;34m,\u001b[0m \u001b[0mos\u001b[0m\u001b[0;34m.\u001b[0m\u001b[0mO_RDWR\u001b[0m \u001b[0;34m|\u001b[0m \u001b[0mos\u001b[0m\u001b[0;34m.\u001b[0m\u001b[0mO_NOCTTY\u001b[0m \u001b[0;34m|\u001b[0m \u001b[0mos\u001b[0m\u001b[0;34m.\u001b[0m\u001b[0mO_NONBLOCK\u001b[0m\u001b[0;34m)\u001b[0m\u001b[0;34m\u001b[0m\u001b[0m\n\u001b[0m\u001b[1;32m    266\u001b[0m         \u001b[0;32mexcept\u001b[0m \u001b[0mOSError\u001b[0m \u001b[0;32mas\u001b[0m \u001b[0mmsg\u001b[0m\u001b[0;34m:\u001b[0m\u001b[0;34m\u001b[0m\u001b[0m\n",
      "\u001b[0;31mFileNotFoundError\u001b[0m: [Errno 2] No such file or directory: '/dev/serial/by-id/usb-Arduino_Srl_Arduino_Uno_556393038343514082D0-if00'",
      "\nDuring handling of the above exception, another exception occurred:\n",
      "\u001b[0;31mSerialException\u001b[0m                           Traceback (most recent call last)",
      "\u001b[0;32m<ipython-input-8-71bc4054bcc1>\u001b[0m in \u001b[0;36m<module>\u001b[0;34m()\u001b[0m\n\u001b[0;32m----> 1\u001b[0;31m \u001b[0mser\u001b[0m \u001b[0;34m=\u001b[0m \u001b[0mserial\u001b[0m\u001b[0;34m.\u001b[0m\u001b[0mSerial\u001b[0m\u001b[0;34m(\u001b[0m\u001b[0;34m'/dev/serial/by-id/usb-Arduino_Srl_Arduino_Uno_556393038343514082D0-if00'\u001b[0m\u001b[0;34m,\u001b[0m \u001b[0;36m115200\u001b[0m\u001b[0;34m)\u001b[0m\u001b[0;34m\u001b[0m\u001b[0m\n\u001b[0m",
      "\u001b[0;32m/usr/local/lib/python3.5/dist-packages/serial/serialutil.py\u001b[0m in \u001b[0;36m__init__\u001b[0;34m(self, port, baudrate, bytesize, parity, stopbits, timeout, xonxoff, rtscts, write_timeout, dsrdtr, inter_byte_timeout, exclusive, **kwargs)\u001b[0m\n\u001b[1;32m    238\u001b[0m \u001b[0;34m\u001b[0m\u001b[0m\n\u001b[1;32m    239\u001b[0m         \u001b[0;32mif\u001b[0m \u001b[0mport\u001b[0m \u001b[0;32mis\u001b[0m \u001b[0;32mnot\u001b[0m \u001b[0;32mNone\u001b[0m\u001b[0;34m:\u001b[0m\u001b[0;34m\u001b[0m\u001b[0m\n\u001b[0;32m--> 240\u001b[0;31m             \u001b[0mself\u001b[0m\u001b[0;34m.\u001b[0m\u001b[0mopen\u001b[0m\u001b[0;34m(\u001b[0m\u001b[0;34m)\u001b[0m\u001b[0;34m\u001b[0m\u001b[0m\n\u001b[0m\u001b[1;32m    241\u001b[0m \u001b[0;34m\u001b[0m\u001b[0m\n\u001b[1;32m    242\u001b[0m     \u001b[0;31m#  -  -  -  -  -  -  -  -  -  -  -  -  -  -  -  -  -  -  -  -  -  -  -  -\u001b[0m\u001b[0;34m\u001b[0m\u001b[0;34m\u001b[0m\u001b[0m\n",
      "\u001b[0;32m/usr/local/lib/python3.5/dist-packages/serial/serialposix.py\u001b[0m in \u001b[0;36mopen\u001b[0;34m(self)\u001b[0m\n\u001b[1;32m    266\u001b[0m         \u001b[0;32mexcept\u001b[0m \u001b[0mOSError\u001b[0m \u001b[0;32mas\u001b[0m \u001b[0mmsg\u001b[0m\u001b[0;34m:\u001b[0m\u001b[0;34m\u001b[0m\u001b[0m\n\u001b[1;32m    267\u001b[0m             \u001b[0mself\u001b[0m\u001b[0;34m.\u001b[0m\u001b[0mfd\u001b[0m \u001b[0;34m=\u001b[0m \u001b[0;32mNone\u001b[0m\u001b[0;34m\u001b[0m\u001b[0m\n\u001b[0;32m--> 268\u001b[0;31m             \u001b[0;32mraise\u001b[0m \u001b[0mSerialException\u001b[0m\u001b[0;34m(\u001b[0m\u001b[0mmsg\u001b[0m\u001b[0;34m.\u001b[0m\u001b[0merrno\u001b[0m\u001b[0;34m,\u001b[0m \u001b[0;34m\"could not open port {}: {}\"\u001b[0m\u001b[0;34m.\u001b[0m\u001b[0mformat\u001b[0m\u001b[0;34m(\u001b[0m\u001b[0mself\u001b[0m\u001b[0;34m.\u001b[0m\u001b[0m_port\u001b[0m\u001b[0;34m,\u001b[0m \u001b[0mmsg\u001b[0m\u001b[0;34m)\u001b[0m\u001b[0;34m)\u001b[0m\u001b[0;34m\u001b[0m\u001b[0m\n\u001b[0m\u001b[1;32m    269\u001b[0m         \u001b[0;31m#~ fcntl.fcntl(self.fd, fcntl.F_SETFL, 0)  # set blocking\u001b[0m\u001b[0;34m\u001b[0m\u001b[0;34m\u001b[0m\u001b[0m\n\u001b[1;32m    270\u001b[0m \u001b[0;34m\u001b[0m\u001b[0m\n",
      "\u001b[0;31mSerialException\u001b[0m: [Errno 2] could not open port /dev/serial/by-id/usb-Arduino_Srl_Arduino_Uno_556393038343514082D0-if00: [Errno 2] No such file or directory: '/dev/serial/by-id/usb-Arduino_Srl_Arduino_Uno_556393038343514082D0-if00'"
     ]
    }
   ],
   "source": [
    "ser = serial.Serial('/dev/serial/by-id/usb-Arduino_Srl_Arduino_Uno_556393038343514082D0-if00', 115200)"
   ]
  },
  {
   "cell_type": "markdown",
   "metadata": {},
   "source": [
    "Starts up the compute system with 4 cores (CPU core count), number of threads to use\n",
    "\n",
    "Reference:\n",
    "https://github.com/ogmacorp/EOgmaNeo"
   ]
  },
  {
   "cell_type": "code",
   "execution_count": 10,
   "metadata": {},
   "outputs": [],
   "source": [
    "esystem = eogmaneo.ComputeSystem(4)\n",
    "\n",
    "ld = 6 * [ eogmaneo.LayerDesc() ]\n",
    "\n",
    "for l in range(0, len(ld)):\n",
    "    ld[l]._width = 36\n",
    "    ld[l]._height = 36\n",
    "    ld[l]._chunkSize = 6\n",
    "\n",
    "    if l == 0:\n",
    "        ld[l]._forwardRadius = 9\n",
    "        ld[l]._backwardRadius = 9\n",
    "    else:\n",
    "        ld[l]._forwardRadius = 9\n",
    "        ld[l]._backwardRadius = 9\n",
    "        \n",
    "    ld[l]._ticksPerUpdate = 2\n",
    "    ld[l]._temporalHorizon = 2\n",
    "    ld[l]._alpha = 0.1\n",
    "    ld[l]._beta = 0.1\n",
    "    ld[l]._gamma = 0.01\n",
    "    \n",
    "hiddenWidth = camWidth\n",
    "hiddenHeight = int(camHeight / 2)\n",
    "\n",
    "h = eogmaneo.Hierarchy()\n",
    "h.create([ ( hiddenWidth, hiddenHeight ), ( steerChunkSize, steerChunkSize ) ], [ lineChunkSize, steerChunkSize ], [ False, True ], ld, 41)"
   ]
  },
  {
   "cell_type": "markdown",
   "metadata": {},
   "source": [
    "sdr = software-defined radio\n",
    "\n",
    "(?)\n"
   ]
  },
  {
   "cell_type": "code",
   "execution_count": 11,
   "metadata": {},
   "outputs": [],
   "source": [
    "sdrWidth = int(hiddenWidth / lineSDRSizeDiv)\n",
    "sdrHeight = int(hiddenHeight / lineSDRSizeDiv)\n",
    "\n",
    "numChunksInX = int(sdrWidth / lineChunkSize)\n",
    "numChunksInY = int(sdrHeight / lineChunkSize)\n",
    "numChunks = numChunksInX * numChunksInY\n",
    "bitsPerChunk = lineChunkSize * lineChunkSize"
   ]
  },
  {
   "cell_type": "markdown",
   "metadata": {},
   "source": [
    "Look up cv2 LSD"
   ]
  },
  {
   "cell_type": "code",
   "execution_count": 12,
   "metadata": {},
   "outputs": [],
   "source": [
    "lsd = cv2.createLineSegmentDetector(0)"
   ]
  },
  {
   "cell_type": "code",
   "execution_count": 13,
   "metadata": {},
   "outputs": [],
   "source": [
    "trainMode = True\n",
    "enabled = False\n",
    "\n",
    "targetSteer = 0.0\n",
    "targetDrive = 0.0\n",
    "targetMode = False\n",
    "\n",
    "speedMul = 0.25\n",
    "capTime = 5.0\n",
    "capTimer = 0.0\n",
    "imgIndex = 0\n",
    "\n",
    "steer = 0\n",
    "drive = 0\n",
    "mode = 0\n",
    "\n",
    "joymodePrev = False"
   ]
  },
  {
   "cell_type": "code",
   "execution_count": 14,
   "metadata": {},
   "outputs": [
    {
     "ename": "NameError",
     "evalue": "name 'joy' is not defined",
     "output_type": "error",
     "traceback": [
      "\u001b[0;31m---------------------------------------------------------------------------\u001b[0m",
      "\u001b[0;31mNameError\u001b[0m                                 Traceback (most recent call last)",
      "\u001b[0;32m<ipython-input-14-6394a6c14144>\u001b[0m in \u001b[0;36m<module>\u001b[0;34m()\u001b[0m\n\u001b[1;32m     15\u001b[0m \u001b[0;34m\u001b[0m\u001b[0m\n\u001b[1;32m     16\u001b[0m         \u001b[0;31m# Receive data\u001b[0m\u001b[0;34m\u001b[0m\u001b[0;34m\u001b[0m\u001b[0m\n\u001b[0;32m---> 17\u001b[0;31m         \u001b[0mjoydrive\u001b[0m \u001b[0;34m=\u001b[0m \u001b[0;34m(\u001b[0m\u001b[0mjoy\u001b[0m\u001b[0;34m.\u001b[0m\u001b[0mget_axis\u001b[0m\u001b[0;34m(\u001b[0m\u001b[0;36m5\u001b[0m\u001b[0;34m)\u001b[0m \u001b[0;34m*\u001b[0m \u001b[0;36m0.5\u001b[0m \u001b[0;34m+\u001b[0m \u001b[0;36m0.5\u001b[0m\u001b[0;34m)\u001b[0m \u001b[0;34m-\u001b[0m \u001b[0;34m(\u001b[0m\u001b[0mjoy\u001b[0m\u001b[0;34m.\u001b[0m\u001b[0mget_axis\u001b[0m\u001b[0;34m(\u001b[0m\u001b[0;36m2\u001b[0m\u001b[0;34m)\u001b[0m \u001b[0;34m*\u001b[0m \u001b[0;36m0.5\u001b[0m \u001b[0;34m+\u001b[0m \u001b[0;36m0.5\u001b[0m\u001b[0;34m)\u001b[0m\u001b[0;34m\u001b[0m\u001b[0m\n\u001b[0m\u001b[1;32m     18\u001b[0m         \u001b[0mjoysteer\u001b[0m \u001b[0;34m=\u001b[0m \u001b[0mjoy\u001b[0m\u001b[0;34m.\u001b[0m\u001b[0mget_axis\u001b[0m\u001b[0;34m(\u001b[0m\u001b[0;36m0\u001b[0m\u001b[0;34m)\u001b[0m\u001b[0;34m\u001b[0m\u001b[0m\n\u001b[1;32m     19\u001b[0m \u001b[0;34m\u001b[0m\u001b[0m\n",
      "\u001b[0;31mNameError\u001b[0m: name 'joy' is not defined"
     ]
    }
   ],
   "source": [
    "while not endProg:\n",
    "    try:\n",
    "        timeStart = pygame.time.get_ticks()\n",
    "        \n",
    "        for event in pygame.event.get():\n",
    "            if event.type == pygame.QUIT:\n",
    "                endProg = True\n",
    "\n",
    "        keys = pygame.key.get_pressed()\n",
    "\n",
    "        if keys[pygame.K_ESCAPE]:\n",
    "            endProg = True\n",
    "\n",
    "        ############################\n",
    "\n",
    "        # Receive data\n",
    "        joydrive = (joy.get_axis(5) * 0.5 + 0.5) - (joy.get_axis(2) * 0.5 + 0.5)\n",
    "        joysteer = joy.get_axis(0)\n",
    "\n",
    "        joymode = joy.get_button(0)\n",
    "\n",
    "        steer = joysteer\n",
    "        drive = joydrive * speedMul\n",
    "\n",
    "        if joymode and not joymodePrev:\n",
    "            mode = not mode\n",
    "\n",
    "        joymodePrev = joymode\n",
    "\n",
    "        moving = drive > 0.036\n",
    "\n",
    "        training = not mode\n",
    "        \n",
    "        ############################\n",
    "\n",
    "        visData = np.empty((camHeight, camWidth, 3), dtype=np.uint8)\n",
    "\n",
    "        camera.capture(visData, \"rgb\", use_video_port=True)\n",
    "\n",
    "        visData = visData[0:int(hiddenHeight), :, :]   \n",
    "        \n",
    "        visDataGrey = 0.333 * ((visData[:,:,0].T / 255.0) + (visData[:,:,1].T / 255.0) + (visData[:,:,2].T / 255.0))\n",
    "\n",
    "        visDataGrey = visDataGrey.reshape((hiddenHeight, hiddenWidth))\n",
    "        visDataGreyb = (visDataGrey * 255).astype(np.uint8)\n",
    "        \n",
    "        lines = lsd.detect(visDataGreyb)\n",
    "\n",
    "        rotSDR = numChunks*[int(0)]\n",
    "\n",
    "        chunkResponses = numChunks*[-99999.0]\n",
    "\n",
    "        # Assign lines to SDR\n",
    "        if lines[0] != None:\n",
    "            for l in lines[0]:\n",
    "                bpt = l[0][0:2]\n",
    "                ept = l[0][2:4]\n",
    "\n",
    "                delta = ept - bpt\n",
    "\n",
    "                mag = np.sqrt(delta[0] * delta[0] + delta[1] * delta[1])\n",
    "\n",
    "                if mag < minLineLength:\n",
    "                    continue\n",
    "\n",
    "                response = mag\n",
    "\n",
    "                delta = lineStepSize * delta / np.maximum(0.0001, mag)\n",
    "\n",
    "                angle = np.arctan2(delta[1], delta[0])\n",
    "\n",
    "                steps = int(mag / lineStepSize)\n",
    "\n",
    "                p = bpt\n",
    "\n",
    "                for s in range(steps):\n",
    "                    # Fill\n",
    "                    cx = min(numChunksInX - 1, max(0, int(p[0] / lineSDRSizeDiv / lineChunkSize)))\n",
    "                    cy = min(numChunksInY - 1, max(0, int(p[1] / lineSDRSizeDiv / lineChunkSize)))\n",
    "\n",
    "                    chunkIndex = cx + cy * numChunksInX\n",
    "\n",
    "                    if response > chunkResponses[chunkIndex]:\n",
    "                        chunkResponses[chunkIndex] = response\n",
    "\n",
    "                        rotSDR[chunkIndex] = int(angle / (np.pi * 2.0) * (bitsPerChunk - 1)) % bitsPerChunk\n",
    "\n",
    "                        if rotSDR[chunkIndex] < 0:\n",
    "                            rotSDR[chunkIndex] += bitsPerChunk\n",
    "\n",
    "                    # Step\n",
    "                    p += delta\n",
    "\n",
    "        if capTimer >= capTime:\n",
    "            capTimer = 0.0\n",
    "\n",
    "            #cv2.imwrite(\"imgs/img\" + str(int(imgIndex)) + \".png\", visData[:,:,::-1])\n",
    "\n",
    "            imgIndex += 1\n",
    "\n",
    "        useSteerSDR = [ int((steer * 0.5 + 0.5) * (steerChunkSize * steerChunkSize - 1) + 0.5) ]\n",
    "\n",
    "        if not training:\n",
    "            useSteerSDR = h.getPrediction(1)\n",
    "\n",
    "        #print(rotSDR)\n",
    "     \n",
    "        h.step([ rotSDR, useSteerSDR ], esystem, training and moving)\n",
    "\n",
    "        sendSteer = steer\n",
    "        sendDrive = drive\n",
    "\n",
    "        if not training:\n",
    "            predSteerIndex = h.getPrediction(1)[0]\n",
    "                \n",
    "            sendSteer = min(1.0, max(-1.0, predSteerIndex / float(steerChunkSize * steerChunkSize - 1) * 2.0 - 1.0))\n",
    "\n",
    "            sendDrive = 0.164\n",
    "\n",
    "        trimmedSteer = min(1.0, max(-1.0, sendSteer + trimming))\n",
    "\n",
    "        ser.write(bytes([int((trimmedSteer * 0.5 + 0.5) * 255), int((sendDrive * 0.5 + 0.5) * 255)]))\n",
    "\n",
    "        ############################\n",
    "\n",
    "        timeEnd = pygame.time.get_ticks()\n",
    "\n",
    "        deltaTime = timeEnd - timeStart\n",
    "\n",
    "        if training and moving:\n",
    "            capTimer += deltaTime * 0.001\n",
    "\n",
    "        pygame.time.delay(max(0, 50 - deltaTime))\n",
    "        \n",
    "    except KeyboardInterrupt:\n",
    "        endProg = True\n",
    "        break"
   ]
  },
  {
   "cell_type": "code",
   "execution_count": 16,
   "metadata": {},
   "outputs": [
    {
     "ename": "NameError",
     "evalue": "name 'ser' is not defined",
     "output_type": "error",
     "traceback": [
      "\u001b[0;31m---------------------------------------------------------------------------\u001b[0m",
      "\u001b[0;31mNameError\u001b[0m                                 Traceback (most recent call last)",
      "\u001b[0;32m<ipython-input-16-a04675b759be>\u001b[0m in \u001b[0;36m<module>\u001b[0;34m()\u001b[0m\n\u001b[1;32m      1\u001b[0m \u001b[0mpygame\u001b[0m\u001b[0;34m.\u001b[0m\u001b[0mquit\u001b[0m\u001b[0;34m(\u001b[0m\u001b[0;34m)\u001b[0m\u001b[0;34m\u001b[0m\u001b[0m\n\u001b[0;32m----> 2\u001b[0;31m \u001b[0mser\u001b[0m\u001b[0;34m.\u001b[0m\u001b[0mclose\u001b[0m\u001b[0;34m(\u001b[0m\u001b[0;34m)\u001b[0m\u001b[0;34m\u001b[0m\u001b[0m\n\u001b[0m",
      "\u001b[0;31mNameError\u001b[0m: name 'ser' is not defined"
     ]
    }
   ],
   "source": [
    "pygame.quit()\n",
    "ser.close()"
   ]
  },
  {
   "cell_type": "markdown",
   "metadata": {},
   "source": [
    "---------------"
   ]
  },
  {
   "cell_type": "code",
   "execution_count": 18,
   "metadata": {},
   "outputs": [],
   "source": [
    "visData = np.empty((camHeight, camWidth, 3), dtype=np.uint8)\n",
    "\n",
    "camera.capture(visData, \"rgb\", use_video_port=True)"
   ]
  },
  {
   "cell_type": "code",
   "execution_count": 20,
   "metadata": {},
   "outputs": [
    {
     "data": {
      "text/plain": [
       "array([[[ 52,  56,  66],\n",
       "        [ 53,  58,  68],\n",
       "        [ 38,  42,  52],\n",
       "        ..., \n",
       "        [ 23,  23,  46],\n",
       "        [ 23,  23,  46],\n",
       "        [ 24,  25,  47]],\n",
       "\n",
       "       [[ 53,  58,  68],\n",
       "        [ 53,  58,  68],\n",
       "        [ 42,  47,  57],\n",
       "        ..., \n",
       "        [ 24,  25,  47],\n",
       "        [ 25,  26,  49],\n",
       "        [ 25,  26,  49]],\n",
       "\n",
       "       [[ 48,  53,  63],\n",
       "        [ 54,  59,  69],\n",
       "        [ 45,  49,  59],\n",
       "        ..., \n",
       "        [ 22,  20,  44],\n",
       "        [ 22,  20,  44],\n",
       "        [ 23,  21,  45]],\n",
       "\n",
       "       ..., \n",
       "       [[139, 146, 130],\n",
       "        [138, 145, 129],\n",
       "        [137, 144, 128],\n",
       "        ..., \n",
       "        [120, 131, 116],\n",
       "        [ 31,  41,  34],\n",
       "        [ 16,  26,  19]],\n",
       "\n",
       "       [[141, 147, 132],\n",
       "        [139, 146, 130],\n",
       "        [138, 145, 129],\n",
       "        ..., \n",
       "        [134, 145, 130],\n",
       "        [ 72,  83,  70],\n",
       "        [ 16,  27,  15]],\n",
       "\n",
       "       [[139, 146, 130],\n",
       "        [138, 145, 129],\n",
       "        [138, 145, 129],\n",
       "        ..., \n",
       "        [134, 145, 130],\n",
       "        [114, 125, 112],\n",
       "        [ 28,  39,  26]]], dtype=uint8)"
      ]
     },
     "execution_count": 20,
     "metadata": {},
     "output_type": "execute_result"
    }
   ],
   "source": [
    "visData"
   ]
  },
  {
   "cell_type": "code",
   "execution_count": null,
   "metadata": {},
   "outputs": [],
   "source": []
  }
 ],
 "metadata": {
  "kernelspec": {
   "display_name": "Python 3",
   "language": "python",
   "name": "python3"
  },
  "language_info": {
   "codemirror_mode": {
    "name": "ipython",
    "version": 3
   },
   "file_extension": ".py",
   "mimetype": "text/x-python",
   "name": "python",
   "nbconvert_exporter": "python",
   "pygments_lexer": "ipython3",
   "version": "3.6.4"
  }
 },
 "nbformat": 4,
 "nbformat_minor": 2
}
