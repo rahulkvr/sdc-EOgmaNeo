{
 "cells": [
  {
   "cell_type": "code",
   "execution_count": null,
   "metadata": {},
   "outputs": [],
   "source": [
    "import cv2\n",
    "import eogmaneo\n",
    "import os\n",
    "import os.path\n",
    "import picamera\n",
    "import pygame\n",
    "import re\n",
    "import serial\n",
    "import signal\n",
    "import struct\n",
    "import sys\n",
    "import time\n",
    "import numpy as np\n",
    "import pygame.joystick\n",
    "import pygame.surface\n",
    "from PIL import Image\n",
    "from threading import Thread\n",
    "from threading import Lock\n",
    "from threading import Condition\n",
    "from threading import Barrier"
   ]
  },
  {
   "cell_type": "code",
   "execution_count": null,
   "metadata": {},
   "outputs": [],
   "source": [
    "# A trimming global variable can be modified to compensate for \n",
    "# any drift if the SDC doesn't travel in a straight line.\n",
    "\n",
    "trimming = 0.1\n",
    "\n",
    "\n",
    "# Runs code without creating a pygame window\n",
    "\n",
    "os.environ[\"SDL_VIDEODRIVER\"] = \"dummy\""
   ]
  },
  {
   "cell_type": "code",
   "execution_count": null,
   "metadata": {},
   "outputs": [],
   "source": [
    "def pygame_to_pil_img(pg_surface):\n",
    "    imgstr = pygame.image.tostring(pg_surface, 'RGB')\n",
    "    return Image.fromstring('RGB', pg_surface.get_size(), imgstr)"
   ]
  },
  {
   "cell_type": "code",
   "execution_count": null,
   "metadata": {},
   "outputs": [],
   "source": [
    "def pil_to_pygame_img(pil_img):\n",
    "    imgstr = pil_img.tostring()\n",
    "    return pygame.image.fromstring(imgstr, pil_img.size, 'RGB')"
   ]
  },
  {
   "cell_type": "code",
   "execution_count": null,
   "metadata": {},
   "outputs": [],
   "source": [
    "def matToVec(mat):\n",
    "    return mat.flatten().astype(np.float32).tolist()"
   ]
  },
  {
   "cell_type": "code",
   "execution_count": null,
   "metadata": {},
   "outputs": [],
   "source": [
    "def sigmoid(x):\n",
    "    return 1.0 / (1.0 + np.exp(-x))"
   ]
  },
  {
   "cell_type": "code",
   "execution_count": null,
   "metadata": {},
   "outputs": [],
   "source": [
    "endProg = False\n",
    "\n",
    "signal.signal(signal.SIGINT, signal.default_int_handler)\n",
    "\n",
    "camWidth = 64\n",
    "camHeight = 64\n",
    "\n",
    "steerChunkSize = int(6)\n",
    "lineChunkSize = int(6)\n",
    "lineSDRSizeDiv = int(1)\n",
    "\n",
    "lineStepSize = lineChunkSize * 0.666\n",
    "minLineLength = 6"
   ]
  },
  {
   "cell_type": "code",
   "execution_count": null,
   "metadata": {},
   "outputs": [],
   "source": [
    "pygame.init()\n",
    "pygame.joystick.init()\n",
    "\n",
    "joystick_count = pygame.joystick.get_count()\n",
    "\n",
    "if joystick_count < 1:\n",
    "    print(\"No joysticks found.\")\n",
    "\n",
    "    sys.exit()\n",
    "\n",
    "print(\"Found \" + str(joystick_count) + \" joysticks.\")\n",
    "\n",
    "joy = pygame.joystick.Joystick(0)\n",
    "joy.init()"
   ]
  },
  {
   "cell_type": "code",
   "execution_count": null,
   "metadata": {},
   "outputs": [],
   "source": [
    "camera = picamera.PiCamera()\n",
    "\n",
    "camera.resolution = (camWidth, camHeight)\n",
    "camera.framerate = 24\n",
    "\n",
    "# camera.start_preview()\n",
    "\n",
    "time.sleep(2)\n",
    "\n",
    "######################"
   ]
  },
  {
   "cell_type": "code",
   "execution_count": null,
   "metadata": {},
   "outputs": [],
   "source": [
    "ser = serial.Serial('/dev/serial/by-id/usb-Arduino_Srl_Arduino_Uno_556393038343514082D0-if00', 115200)\n"
   ]
  },
  {
   "cell_type": "markdown",
   "metadata": {},
   "source": []
  },
  {
   "cell_type": "code",
   "execution_count": null,
   "metadata": {},
   "outputs": [],
   "source": [
    "esystem = eogmaneo.ComputeSystem(4)\n",
    "\n",
    "ld = 6 * [ eogmaneo.LayerDesc() ]\n",
    "\n",
    "for l in range(0, len(ld)):\n",
    "    ld[l]._width = 36\n",
    "    ld[l]._height = 36\n",
    "    ld[l]._chunkSize = 6\n",
    "\n",
    "    if l == 0:\n",
    "        ld[l]._forwardRadius = 9\n",
    "        ld[l]._backwardRadius = 9\n",
    "    else:\n",
    "        ld[l]._forwardRadius = 9\n",
    "        ld[l]._backwardRadius = 9\n",
    "        \n",
    "    ld[l]._ticksPerUpdate = 2\n",
    "    ld[l]._temporalHorizon = 2\n",
    "    ld[l]._alpha = 0.1\n",
    "    ld[l]._beta = 0.1\n",
    "    ld[l]._gamma = 0.01\n",
    "\n",
    "hiddenWidth = camWidth\n",
    "hiddenHeight = int(camHeight / 2)"
   ]
  },
  {
   "cell_type": "markdown",
   "metadata": {},
   "source": [
    "Initializes and constructs an EOgmaNeo hierarchy:"
   ]
  },
  {
   "cell_type": "code",
   "execution_count": null,
   "metadata": {},
   "outputs": [],
   "source": [
    "h = eogmaneo.Hierarchy()\n",
    "h.create([ ( hiddenWidth, hiddenHeight ), ( steerChunkSize, steerChunkSize ) ], [ lineChunkSize, steerChunkSize ], [ False, True ], ld, 41)\n"
   ]
  },
  {
   "cell_type": "code",
   "execution_count": null,
   "metadata": {},
   "outputs": [],
   "source": [
    "sdrWidth = int(hiddenWidth / lineSDRSizeDiv)\n",
    "sdrHeight = int(hiddenHeight / lineSDRSizeDiv)\n",
    "\n",
    "numChunksInX = int(sdrWidth / lineChunkSize)\n",
    "numChunksInY = int(sdrHeight / lineChunkSize)\n",
    "numChunks = numChunksInX * numChunksInY\n",
    "bitsPerChunk = lineChunkSize * lineChunkSize"
   ]
  },
  {
   "cell_type": "code",
   "execution_count": null,
   "metadata": {},
   "outputs": [],
   "source": [
    "lsd = cv2.createLineSegmentDetector(0)"
   ]
  },
  {
   "cell_type": "code",
   "execution_count": null,
   "metadata": {},
   "outputs": [],
   "source": [
    "trainMode = True\n",
    "enabled = False\n",
    "\n",
    "targetSteer = 0.0\n",
    "targetDrive = 0.0\n",
    "targetMode = False\n",
    "\n",
    "speedMul = 0.25\n",
    "capTime = 5.0\n",
    "capTimer = 0.0\n",
    "imgIndex = 0\n",
    "\n",
    "steer = 0\n",
    "drive = 0\n",
    "mode = 0\n",
    "\n",
    "joymodePrev = False"
   ]
  },
  {
   "cell_type": "code",
   "execution_count": null,
   "metadata": {},
   "outputs": [],
   "source": [
    "while not endProg:\n",
    "    try:\n",
    "        timeStart = pygame.time.get_ticks()\n",
    "        \n",
    "        for event in pygame.event.get():\n",
    "            if event.type == pygame.QUIT:\n",
    "                endProg = True\n",
    "\n",
    "        keys = pygame.key.get_pressed()\n",
    "\n",
    "        if keys[pygame.K_ESCAPE]:\n",
    "            endProg = True\n",
    "\n",
    "        ############################\n",
    "\n",
    "        # Receive data\n",
    "        joydrive = (joy.get_axis(5) * 0.5 + 0.5) - (joy.get_axis(2) * 0.5 + 0.5)\n",
    "        joysteer = joy.get_axis(0)\n",
    "\n",
    "        joymode = joy.get_button(0)\n",
    "\n",
    "        steer = joysteer\n",
    "        drive = joydrive * speedMul\n",
    "\n",
    "        if joymode and not joymodePrev:\n",
    "            mode = not mode\n",
    "\n",
    "        joymodePrev = joymode\n",
    "\n",
    "        moving = drive > 0.036\n",
    "\n",
    "        training = not mode\n",
    "        \n",
    "        ############################\n",
    "\n",
    "        visData = np.empty((camHeight, camWidth, 3), dtype=np.uint8)\n",
    "\n",
    "        camera.capture(visData, \"rgb\", use_video_port=True)\n",
    "\n",
    "        visData = visData[0:int(hiddenHeight), :, :]   \n",
    "        \n",
    "        visDataGrey = 0.333 * ((visData[:,:,0].T / 255.0) + (visData[:,:,1].T / 255.0) + (visData[:,:,2].T / 255.0))\n",
    "\n",
    "        visDataGrey = visDataGrey.reshape((hiddenHeight, hiddenWidth))\n",
    "        visDataGreyb = (visDataGrey * 255).astype(np.uint8)\n",
    "        \n",
    "        lines = lsd.detect(visDataGreyb)\n",
    "\n",
    "        rotSDR = numChunks*[int(0)]\n",
    "\n",
    "        chunkResponses = numChunks*[-99999.0]\n",
    "\n",
    "        # Assign lines to SDR\n",
    "        if lines[0] != None:\n",
    "            for l in lines[0]:\n",
    "                bpt = l[0][0:2]\n",
    "                ept = l[0][2:4]\n",
    "\n",
    "                delta = ept - bpt\n",
    "\n",
    "                mag = np.sqrt(delta[0] * delta[0] + delta[1] * delta[1])\n",
    "\n",
    "                if mag < minLineLength:\n",
    "                    continue\n",
    "\n",
    "                response = mag\n",
    "\n",
    "                delta = lineStepSize * delta / np.maximum(0.0001, mag)\n",
    "\n",
    "                angle = np.arctan2(delta[1], delta[0])\n",
    "\n",
    "                steps = int(mag / lineStepSize)\n",
    "\n",
    "                p = bpt\n",
    "\n",
    "                for s in range(steps):\n",
    "                    # Fill\n",
    "                    cx = min(numChunksInX - 1, max(0, int(p[0] / lineSDRSizeDiv / lineChunkSize)))\n",
    "                    cy = min(numChunksInY - 1, max(0, int(p[1] / lineSDRSizeDiv / lineChunkSize)))\n",
    "\n",
    "                    chunkIndex = cx + cy * numChunksInX\n",
    "\n",
    "                    if response > chunkResponses[chunkIndex]:\n",
    "                        chunkResponses[chunkIndex] = response\n",
    "\n",
    "                        rotSDR[chunkIndex] = int(angle / (np.pi * 2.0) * (bitsPerChunk - 1)) % bitsPerChunk\n",
    "\n",
    "                        if rotSDR[chunkIndex] < 0:\n",
    "                            rotSDR[chunkIndex] += bitsPerChunk\n",
    "\n",
    "                    # Step\n",
    "                    p += delta\n",
    "\n",
    "        if capTimer >= capTime:\n",
    "            capTimer = 0.0\n",
    "\n",
    "            #cv2.imwrite(\"imgs/img\" + str(int(imgIndex)) + \".png\", visData[:,:,::-1])\n",
    "\n",
    "            imgIndex += 1\n",
    "\n",
    "        useSteerSDR = [ int((steer * 0.5 + 0.5) * (steerChunkSize * steerChunkSize - 1) + 0.5) ]\n",
    "\n",
    "        if not training:\n",
    "            useSteerSDR = h.getPrediction(1)\n",
    "\n",
    "        #print(rotSDR)\n",
    "     \n",
    "        h.step([ rotSDR, useSteerSDR ], esystem, training and moving)\n",
    "\n",
    "        sendSteer = steer\n",
    "        sendDrive = drive\n",
    "\n",
    "        if not training:\n",
    "            predSteerIndex = h.getPrediction(1)[0]\n",
    "                \n",
    "            sendSteer = min(1.0, max(-1.0, predSteerIndex / float(steerChunkSize * steerChunkSize - 1) * 2.0 - 1.0))\n",
    "\n",
    "            sendDrive = 0.164\n",
    "\n",
    "        trimmedSteer = min(1.0, max(-1.0, sendSteer + trimming))\n",
    "\n",
    "        ser.write(bytes([int((trimmedSteer * 0.5 + 0.5) * 255), int((sendDrive * 0.5 + 0.5) * 255)]))\n",
    "\n",
    "        ############################\n",
    "\n",
    "        timeEnd = pygame.time.get_ticks()\n",
    "\n",
    "        deltaTime = timeEnd - timeStart\n",
    "\n",
    "        if training and moving:\n",
    "            capTimer += deltaTime * 0.001\n",
    "\n",
    "        pygame.time.delay(max(0, 50 - deltaTime))\n",
    "        \n",
    "    except KeyboardInterrupt:\n",
    "        endProg = True\n",
    "        break\n"
   ]
  },
  {
   "cell_type": "code",
   "execution_count": null,
   "metadata": {},
   "outputs": [],
   "source": [
    "pygame.quit()\n",
    "ser.close()\n"
   ]
  },
  {
   "cell_type": "code",
   "execution_count": null,
   "metadata": {},
   "outputs": [],
   "source": []
  },
  {
   "cell_type": "code",
   "execution_count": null,
   "metadata": {},
   "outputs": [],
   "source": []
  },
  {
   "cell_type": "code",
   "execution_count": null,
   "metadata": {},
   "outputs": [],
   "source": []
  },
  {
   "cell_type": "code",
   "execution_count": null,
   "metadata": {},
   "outputs": [],
   "source": []
  },
  {
   "cell_type": "code",
   "execution_count": null,
   "metadata": {},
   "outputs": [],
   "source": []
  },
  {
   "cell_type": "code",
   "execution_count": null,
   "metadata": {},
   "outputs": [],
   "source": []
  },
  {
   "cell_type": "code",
   "execution_count": null,
   "metadata": {},
   "outputs": [],
   "source": []
  }
 ],
 "metadata": {
  "kernelspec": {
   "display_name": "Python 3",
   "language": "python",
   "name": "python3"
  },
  "language_info": {
   "codemirror_mode": {
    "name": "ipython",
    "version": 3
   },
   "file_extension": ".py",
   "mimetype": "text/x-python",
   "name": "python",
   "nbconvert_exporter": "python",
   "pygments_lexer": "ipython3",
   "version": "3.6.4"
  }
 },
 "nbformat": 4,
 "nbformat_minor": 2
}
